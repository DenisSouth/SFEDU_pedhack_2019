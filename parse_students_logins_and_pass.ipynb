{
 "cells": [
  {
   "cell_type": "code",
   "execution_count": 47,
   "metadata": {},
   "outputs": [],
   "source": [
    "from selenium import webdriver\n",
    "from random import randint\n",
    "from time import sleep\n",
    "import pickle\n",
    "import os\n",
    "import re\n",
    "from bs4 import BeautifulSoup as bs\n",
    "from time import sleep\n",
    "from random import randint\n",
    "from selenium import webdriver\n"
   ]
  },
  {
   "cell_type": "code",
   "execution_count": 48,
   "metadata": {},
   "outputs": [
    {
     "name": "stderr",
     "output_type": "stream",
     "text": [
      "C:\\ProgramData\\Anaconda3\\lib\\site-packages\\ipykernel_launcher.py:3: DeprecationWarning: use options instead of chrome_options\n",
      "  This is separate from the ipykernel package so we can avoid doing imports until\n"
     ]
    }
   ],
   "source": [
    "options = webdriver.ChromeOptions()\n",
    "chrome_options = webdriver.ChromeOptions()\n",
    "chrome = webdriver.Chrome(\"C:\\\\programs\\\\chromedriver\\\\chromedriver.exe\", chrome_options=chrome_options)"
   ]
  },
  {
   "cell_type": "code",
   "execution_count": 49,
   "metadata": {},
   "outputs": [
    {
     "name": "stdout",
     "output_type": "stream",
     "text": [
      "cookies loaded\n"
     ]
    }
   ],
   "source": [
    "if os.path.exists(\"cookies_Y_EDY.pkl\"):\n",
    "    chrome.get(\"https://education.yandex.ru\")\n",
    "    cookies = pickle.load(open(\"cookies_Y_EDY.pkl\", \"rb\"))\n",
    "    for cookie in cookies:\n",
    "        chrome.add_cookie(cookie)\n",
    "    if len(cookies) > 0:\n",
    "        print('cookies loaded')\n",
    "\n",
    "        sleep(2)\n",
    "        # reload with loaded cookies\n",
    "        chrome.get(\"https://education.yandex.ru\")\n",
    "else:\n",
    "    print(\"введи логин и пароль в браузере и нажмите enter\")\n",
    "    chrome.get(\"https://passport.yandex.ru/auth?origin=education&retpath=https%3A%2F%2Feducation.yandex.ru%2F%3Fadult_registration%3Dtrue%26from_passport%3Dtrue\")\n",
    "    aaa = input()\n",
    "    pickle.dump(chrome.get_cookies(), open(\"cookies_Y_EDY.pkl\", \"wb\"))"
   ]
  },
  {
   "cell_type": "code",
   "execution_count": 50,
   "metadata": {},
   "outputs": [
    {
     "name": "stdout",
     "output_type": "stream",
     "text": [
      "Вася ЛОКОН73 070599\n",
      "Гена КАБИНА64 070599\n",
      "Петя БАБОЧКА64 070599\n"
     ]
    }
   ],
   "source": [
    "chrome.get(\"https://education.yandex.ru/lab/classes/66354/settings/\") \n",
    "elems = chrome.find_elements_by_class_name('students__student-row')\n",
    "for item in elems:\n",
    "    name = item.find_element_by_class_name('students__table-student-name-span').text\n",
    "    login = item.find_element_by_class_name('students__table-student-login').text\n",
    "    code = item.find_element_by_class_name('students__table-school-code').text\n",
    "    print(name, login, code)"
   ]
  },
  {
   "cell_type": "code",
   "execution_count": 43,
   "metadata": {},
   "outputs": [],
   "source": []
  },
  {
   "cell_type": "code",
   "execution_count": null,
   "metadata": {},
   "outputs": [],
   "source": []
  },
  {
   "cell_type": "code",
   "execution_count": 45,
   "metadata": {},
   "outputs": [],
   "source": []
  },
  {
   "cell_type": "code",
   "execution_count": 46,
   "metadata": {},
   "outputs": [
    {
     "name": "stdout",
     "output_type": "stream",
     "text": [
      "Вася ЛОКОН73 070599\n",
      "Гена КАБИНА64 070599\n",
      "Петя БАБОЧКА64 070599\n"
     ]
    }
   ],
   "source": []
  },
  {
   "cell_type": "code",
   "execution_count": null,
   "metadata": {},
   "outputs": [],
   "source": [
    "\n"
   ]
  },
  {
   "cell_type": "code",
   "execution_count": null,
   "metadata": {},
   "outputs": [],
   "source": []
  }
 ],
 "metadata": {
  "kernelspec": {
   "display_name": "Python 3",
   "language": "python",
   "name": "python3"
  },
  "language_info": {
   "codemirror_mode": {
    "name": "ipython",
    "version": 3
   },
   "file_extension": ".py",
   "mimetype": "text/x-python",
   "name": "python",
   "nbconvert_exporter": "python",
   "pygments_lexer": "ipython3",
   "version": "3.7.1"
  }
 },
 "nbformat": 4,
 "nbformat_minor": 2
}
